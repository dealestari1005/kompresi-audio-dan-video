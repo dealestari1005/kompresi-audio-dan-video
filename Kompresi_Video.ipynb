{
  "nbformat": 4,
  "nbformat_minor": 0,
  "metadata": {
    "colab": {
      "provenance": []
    },
    "kernelspec": {
      "name": "python3",
      "display_name": "Python 3"
    },
    "language_info": {
      "name": "python"
    }
  },
  "cells": [
    {
      "cell_type": "markdown",
      "source": [
        "Install Libraries\n"
      ],
      "metadata": {
        "id": "2A6AmIKxZN1c"
      }
    },
    {
      "cell_type": "code",
      "execution_count": 4,
      "metadata": {
        "colab": {
          "base_uri": "https://localhost:8080/"
        },
        "id": "fNQGy_jdQthC",
        "outputId": "0863e16f-c2ff-4460-ee3e-1577afc3c9b9"
      },
      "outputs": [
        {
          "output_type": "stream",
          "name": "stdout",
          "text": [
            "Requirement already satisfied: opencv-python-headless in /usr/local/lib/python3.10/dist-packages (4.9.0.80)\n",
            "Requirement already satisfied: numpy>=1.21.2 in /usr/local/lib/python3.10/dist-packages (from opencv-python-headless) (1.25.2)\n"
          ]
        }
      ],
      "source": [
        "!pip install opencv-python-headless\n",
        "\n",
        "import cv2\n",
        "import os"
      ]
    },
    {
      "cell_type": "markdown",
      "source": [
        "Melakukan lossy compression menggunakan OpenCV"
      ],
      "metadata": {
        "id": "07qt7gfEZR2-"
      }
    },
    {
      "cell_type": "code",
      "source": [
        "# Fungsi untuk melakukan lossy compression menggunakan OpenCV\n",
        "\n",
        "def compress_lossy(video_path, output_path, quality):\n",
        "    cap = cv2.VideoCapture(video_path)\n",
        "    if not cap.isOpened():\n",
        "        print(\"Error: Video tidak dapat dibuka.\")\n",
        "        return\n",
        "\n",
        "    frame_width = int(cap.get(3))\n",
        "    frame_height = int(cap.get(4))\n",
        "    fps = int(cap.get(5))\n",
        "    fourcc = cv2.VideoWriter_fourcc(*'XVID')\n",
        "    out = cv2.VideoWriter(output_path, fourcc, fps, (frame_width, frame_height))\n",
        "\n",
        "    while cap.isOpened():\n",
        "        ret, frame = cap.read()\n",
        "        if not ret:\n",
        "            break\n",
        "\n",
        "        out.write(frame)\n",
        "\n",
        "    cap.release()\n",
        "    out.release()\n",
        "    cv2.destroyAllWindows()"
      ],
      "metadata": {
        "id": "uURX53fORVFs"
      },
      "execution_count": 5,
      "outputs": []
    },
    {
      "cell_type": "markdown",
      "source": [
        "Lossless compression menggunakan ffmpeg"
      ],
      "metadata": {
        "id": "S-0vSy6-Zl-Q"
      }
    },
    {
      "cell_type": "code",
      "source": [
        "def compress_lossless(video_path, output_path):\n",
        "    os.system(f\"ffmpeg -i {video_path} -c:v libx264 -preset slow -crf 20 -c:a copy {output_path}\")\n"
      ],
      "metadata": {
        "id": "Hn4lsWhfRWzq"
      },
      "execution_count": 6,
      "outputs": []
    },
    {
      "cell_type": "markdown",
      "source": [
        "Masukkan Video"
      ],
      "metadata": {
        "id": "NqWb57KnZsh5"
      }
    },
    {
      "cell_type": "code",
      "source": [
        "input_video_path = \"jalan.mp4\""
      ],
      "metadata": {
        "id": "0Yl-va21Ra1d"
      },
      "execution_count": 13,
      "outputs": []
    },
    {
      "cell_type": "markdown",
      "source": [
        "Output lossy compression\n"
      ],
      "metadata": {
        "id": "x4XcD2pJZvSg"
      }
    },
    {
      "cell_type": "code",
      "source": [
        "output_lossy_path = \"output_lossy_compressed_video.mp4\""
      ],
      "metadata": {
        "id": "JX0QJ3WHT8ip"
      },
      "execution_count": 14,
      "outputs": []
    },
    {
      "cell_type": "markdown",
      "source": [
        "Output lossless compression\n"
      ],
      "metadata": {
        "id": "oAob7nmHZ5-V"
      }
    },
    {
      "cell_type": "code",
      "source": [
        "output_lossless_path = \"output_lossless_compressed_video.mp4\""
      ],
      "metadata": {
        "id": "WiWpnzA-T9Qk"
      },
      "execution_count": 15,
      "outputs": []
    },
    {
      "cell_type": "markdown",
      "source": [
        " Lakukan lossy compression dengan kualitas 50 (sesuaikan dengan kebutuhan)\n"
      ],
      "metadata": {
        "id": "vLtOopM8Z9Gf"
      }
    },
    {
      "cell_type": "code",
      "source": [
        "compress_lossy(input_video_path, output_lossy_path, quality=50)\n"
      ],
      "metadata": {
        "id": "YRCuY6TSUAu3"
      },
      "execution_count": 16,
      "outputs": []
    },
    {
      "cell_type": "markdown",
      "source": [
        "Lakukan lossless compression"
      ],
      "metadata": {
        "id": "EObJKp-_aDrs"
      }
    },
    {
      "cell_type": "code",
      "source": [
        "compress_lossless(input_video_path, output_lossless_path)\n"
      ],
      "metadata": {
        "id": "66DYY44sUBUp"
      },
      "execution_count": 17,
      "outputs": []
    },
    {
      "cell_type": "markdown",
      "source": [
        "Download hasil compression"
      ],
      "metadata": {
        "id": "qEE57SKLaHNb"
      }
    },
    {
      "cell_type": "code",
      "source": [
        "print(\"Lossy compression selesai. Video tersimpan sebagai:\", output_lossy_path)\n",
        "print(\"Lossless compression selesai. Video tersimpan sebagai:\", output_lossless_path)"
      ],
      "metadata": {
        "colab": {
          "base_uri": "https://localhost:8080/"
        },
        "id": "mjOuFsMZUDYq",
        "outputId": "2c0e9cbe-c88b-4bc9-85c3-6e127aad0fe2"
      },
      "execution_count": 18,
      "outputs": [
        {
          "output_type": "stream",
          "name": "stdout",
          "text": [
            "Lossy compression selesai. Video tersimpan sebagai: output_lossy_compressed_video.mp4\n",
            "Lossless compression selesai. Video tersimpan sebagai: output_lossless_compressed_video.mp4\n"
          ]
        }
      ]
    }
  ]
}